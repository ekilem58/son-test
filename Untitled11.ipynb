{
  "nbformat": 4,
  "nbformat_minor": 0,
  "metadata": {
    "colab": {
      "provenance": []
    },
    "kernelspec": {
      "name": "python3",
      "display_name": "Python 3"
    },
    "language_info": {
      "name": "python"
    }
  },
  "cells": [
    {
      "cell_type": "code",
      "execution_count": 1,
      "metadata": {
        "id": "pdB8Rd5xCYwW"
      },
      "outputs": [],
      "source": [
        "liste = [1,2,3,4,5,6,7]\n",
        "\n"
      ]
    },
    {
      "cell_type": "code",
      "source": [
        "type(liste)"
      ],
      "metadata": {
        "colab": {
          "base_uri": "https://localhost:8080/"
        },
        "id": "7Ey1QHwUCpD8",
        "outputId": "4024f674-9b92-4b4c-d6e7-ffc60b5c22ae"
      },
      "execution_count": 2,
      "outputs": [
        {
          "output_type": "execute_result",
          "data": {
            "text/plain": [
              "list"
            ]
          },
          "metadata": {},
          "execution_count": 2
        }
      ]
    }
  ]
}